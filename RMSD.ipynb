{
  "nbformat": 4,
  "nbformat_minor": 0,
  "metadata": {
    "colab": {
      "provenance": []
    },
    "kernelspec": {
      "name": "python3",
      "display_name": "Python 3"
    },
    "language_info": {
      "name": "python"
    }
  },
  "cells": [
    {
      "cell_type": "code",
      "execution_count": null,
      "metadata": {
        "id": "lNLlh_KkGCfx"
      },
      "outputs": [],
      "source": [
        "from rdkit import Chem\n",
        "from rdkit.Chem import AllChem\n",
        "import py3Dmol\n",
        "\n",
        "def calc_rmsd_and_visualize(file1, file2):\n",
        "\n",
        "    supplier1 = Chem.SDMolSupplier(file1)\n",
        "    supplier2 = Chem.SDMolSupplier(file2)\n",
        "\n",
        "    if not supplier1 or not supplier2:\n",
        "        print(\"Error loading molecules.\")\n",
        "        return\n",
        "\n",
        "    mol1 = supplier1[0]\n",
        "    mol2 = supplier2[0]\n",
        "\n",
        "    if mol1 is None or mol2 is None:\n",
        "        print(\"Error: One of the molecules is invalid.\")\n",
        "        return\n",
        "\n",
        "\n",
        "    AllChem.EmbedMolecule(mol1)\n",
        "    AllChem.EmbedMolecule(mol2)\n",
        "\n",
        "    rmsd = AllChem.GetBestRMS(mol1, mol2)\n",
        "\n",
        "    view = py3Dmol.view(width=800, height=400)\n",
        "\n",
        "\n",
        "    block1 = Chem.MolToMolBlock(mol1)\n",
        "    block2 = Chem.MolToMolBlock(mol2)\n",
        "\n",
        "    view.addModel(block1, \"mol\")\n",
        "    view.addModel(block2, \"mol\")\n",
        "\n",
        "    view.setStyle({'stick': {}})\n",
        "\n",
        "\n",
        "    view.zoomTo()\n",
        "    view.show()\n",
        "\n",
        "    print(f\"The RMSD between the two structures is: {rmsd} Å\")\n",
        "    return rmsd\n",
        "\n",
        "#Input\n",
        "file1 = 'structure1.sdf'\n",
        "file2 = 'structure2.sdf'\n",
        "calc_rmsd_and_visualize(file1, file2)\n"
      ]
    }
  ]
}